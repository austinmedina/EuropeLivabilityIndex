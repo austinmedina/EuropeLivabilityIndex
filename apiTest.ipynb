{
 "cells": [
  {
   "cell_type": "code",
   "execution_count": null,
   "metadata": {},
   "outputs": [],
   "source": [
    "import requests\n",
    "import pandas as pd\n",
    "from Weather.computeWeatherscore import runLivabilityIndex"
   ]
  },
  {
   "cell_type": "code",
   "execution_count": null,
   "metadata": {},
   "outputs": [],
   "source": [
    "userChoices = session['userChoices']\n",
    "   top10=runLivabilityIndex(userChoices)\n",
    "   session['top10'] = top10\n",
    "\n",
    "   locations = []\n",
    "   for index, row in top10.iterrows():\n",
    "      temp = []\n",
    "      temp.append(row[0].replace(' ', '%20'))\n",
    "      temp.append(row[1].replace(' ', '%20'))\n",
    "      locations.append(temp)\n",
    "   \n",
    "   print(\"LOOKS HERE FOR THE LOCATIONS AHHHHHHHHHHHHHHHHHHHHHHHHHHHH\")\n",
    "   print(locations)\n",
    "   url = \"https://api.unsplash.com/search/photos\"\n",
    "   locationURLS = []\n",
    "\n",
    "   for loc in locations: \n",
    "      query = loc[0] + \"%20\" + loc[1] + \"%20nature\"\n",
    "      print(\"GOT HERE!!!!!!!!!!!!!!!!!!!!!!\")\n",
    "      print(query)\n",
    "      params = {'query': query, 'client_id':'EGNZwSaZsNgcA6Ffy-93TRcHkZNHH0lNaGXSE2miloM', 'per_page':'1', 'order_by':'relevent'}\n",
    "      unsplash = requests.get(url, params=params, allow_redirects=True)\n",
    "\n",
    "      if (unsplash.status_code == 200):\n",
    "         us = unsplash.json()\n",
    "         locationURLS.append(us['results'][0]['urls']['raw'])"
   ]
  }
 ],
 "metadata": {
  "language_info": {
   "name": "python"
  }
 },
 "nbformat": 4,
 "nbformat_minor": 2
}
